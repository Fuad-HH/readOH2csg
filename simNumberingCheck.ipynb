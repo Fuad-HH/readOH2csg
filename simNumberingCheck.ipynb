{
 "cells": [
  {
   "cell_type": "code",
   "execution_count": 1,
   "metadata": {},
   "outputs": [],
   "source": [
    "import pandas as pd"
   ]
  },
  {
   "cell_type": "code",
   "execution_count": 3,
   "metadata": {},
   "outputs": [],
   "source": [
    "## load two csv files: withbox and withoutbox\n",
    "withbox     = pd.read_csv('/lore/hasanm4/Tomms/myCases/LCPP/test_sq_boundary2/withnex.vtk/wall.csv')\n",
    "withoutbox  = pd.read_csv('/lore/hasanm4/Tomms/myCases/LCPP/test_sq_boundary2/withnex.vtk/no_wall.csv')"
   ]
  },
  {
   "cell_type": "code",
   "execution_count": 4,
   "metadata": {},
   "outputs": [
    {
     "data": {
      "text/html": [
       "<div>\n",
       "<style scoped>\n",
       "    .dataframe tbody tr th:only-of-type {\n",
       "        vertical-align: middle;\n",
       "    }\n",
       "\n",
       "    .dataframe tbody tr th {\n",
       "        vertical-align: top;\n",
       "    }\n",
       "\n",
       "    .dataframe thead th {\n",
       "        text-align: right;\n",
       "    }\n",
       "</style>\n",
       "<table border=\"1\" class=\"dataframe\">\n",
       "  <thead>\n",
       "    <tr style=\"text-align: right;\">\n",
       "      <th></th>\n",
       "      <th>Point ID</th>\n",
       "      <th>class_dim</th>\n",
       "      <th>class_id</th>\n",
       "      <th>coordinates_0</th>\n",
       "      <th>coordinates_1</th>\n",
       "      <th>coordinates_2</th>\n",
       "      <th>coordinates_Magnitude</th>\n",
       "      <th>local</th>\n",
       "      <th>simNumbering</th>\n",
       "    </tr>\n",
       "  </thead>\n",
       "  <tbody>\n",
       "    <tr>\n",
       "      <th>0</th>\n",
       "      <td>0</td>\n",
       "      <td>0</td>\n",
       "      <td>1</td>\n",
       "      <td>2.48436</td>\n",
       "      <td>0.043479</td>\n",
       "      <td>0</td>\n",
       "      <td>2.48474</td>\n",
       "      <td>0</td>\n",
       "      <td>12</td>\n",
       "    </tr>\n",
       "    <tr>\n",
       "      <th>1</th>\n",
       "      <td>1</td>\n",
       "      <td>0</td>\n",
       "      <td>2</td>\n",
       "      <td>2.50842</td>\n",
       "      <td>0.042199</td>\n",
       "      <td>0</td>\n",
       "      <td>2.50877</td>\n",
       "      <td>1</td>\n",
       "      <td>40</td>\n",
       "    </tr>\n",
       "    <tr>\n",
       "      <th>2</th>\n",
       "      <td>2</td>\n",
       "      <td>0</td>\n",
       "      <td>3</td>\n",
       "      <td>2.52435</td>\n",
       "      <td>0.045618</td>\n",
       "      <td>0</td>\n",
       "      <td>2.52476</td>\n",
       "      <td>2</td>\n",
       "      <td>79</td>\n",
       "    </tr>\n",
       "    <tr>\n",
       "      <th>3</th>\n",
       "      <td>3</td>\n",
       "      <td>0</td>\n",
       "      <td>4</td>\n",
       "      <td>2.53739</td>\n",
       "      <td>0.042093</td>\n",
       "      <td>0</td>\n",
       "      <td>2.53774</td>\n",
       "      <td>3</td>\n",
       "      <td>127</td>\n",
       "    </tr>\n",
       "    <tr>\n",
       "      <th>4</th>\n",
       "      <td>4</td>\n",
       "      <td>0</td>\n",
       "      <td>5</td>\n",
       "      <td>2.54770</td>\n",
       "      <td>0.047638</td>\n",
       "      <td>0</td>\n",
       "      <td>2.54815</td>\n",
       "      <td>4</td>\n",
       "      <td>182</td>\n",
       "    </tr>\n",
       "  </tbody>\n",
       "</table>\n",
       "</div>"
      ],
      "text/plain": [
       "   Point ID  class_dim  class_id  coordinates_0  coordinates_1  coordinates_2  \\\n",
       "0         0          0         1        2.48436       0.043479              0   \n",
       "1         1          0         2        2.50842       0.042199              0   \n",
       "2         2          0         3        2.52435       0.045618              0   \n",
       "3         3          0         4        2.53739       0.042093              0   \n",
       "4         4          0         5        2.54770       0.047638              0   \n",
       "\n",
       "   coordinates_Magnitude  local  simNumbering  \n",
       "0                2.48474      0            12  \n",
       "1                2.50877      1            40  \n",
       "2                2.52476      2            79  \n",
       "3                2.53774      3           127  \n",
       "4                2.54815      4           182  "
      ]
     },
     "execution_count": 4,
     "metadata": {},
     "output_type": "execute_result"
    }
   ],
   "source": [
    "withbox.head()"
   ]
  },
  {
   "cell_type": "code",
   "execution_count": 5,
   "metadata": {},
   "outputs": [],
   "source": [
    "# make the simNumbering column as index\n",
    "withbox.set_index('simNumbering', inplace=True)\n",
    "withoutbox.set_index('simNumbering', inplace=True)"
   ]
  },
  {
   "cell_type": "code",
   "execution_count": 6,
   "metadata": {},
   "outputs": [
    {
     "data": {
      "text/html": [
       "<div>\n",
       "<style scoped>\n",
       "    .dataframe tbody tr th:only-of-type {\n",
       "        vertical-align: middle;\n",
       "    }\n",
       "\n",
       "    .dataframe tbody tr th {\n",
       "        vertical-align: top;\n",
       "    }\n",
       "\n",
       "    .dataframe thead th {\n",
       "        text-align: right;\n",
       "    }\n",
       "</style>\n",
       "<table border=\"1\" class=\"dataframe\">\n",
       "  <thead>\n",
       "    <tr style=\"text-align: right;\">\n",
       "      <th></th>\n",
       "      <th>Point ID</th>\n",
       "      <th>class_dim</th>\n",
       "      <th>class_id</th>\n",
       "      <th>coordinates_0</th>\n",
       "      <th>coordinates_1</th>\n",
       "      <th>coordinates_2</th>\n",
       "      <th>coordinates_Magnitude</th>\n",
       "      <th>local</th>\n",
       "    </tr>\n",
       "    <tr>\n",
       "      <th>simNumbering</th>\n",
       "      <th></th>\n",
       "      <th></th>\n",
       "      <th></th>\n",
       "      <th></th>\n",
       "      <th></th>\n",
       "      <th></th>\n",
       "      <th></th>\n",
       "      <th></th>\n",
       "    </tr>\n",
       "  </thead>\n",
       "  <tbody>\n",
       "    <tr>\n",
       "      <th>12</th>\n",
       "      <td>0</td>\n",
       "      <td>0</td>\n",
       "      <td>1</td>\n",
       "      <td>2.48436</td>\n",
       "      <td>0.043479</td>\n",
       "      <td>0</td>\n",
       "      <td>2.48474</td>\n",
       "      <td>0</td>\n",
       "    </tr>\n",
       "    <tr>\n",
       "      <th>40</th>\n",
       "      <td>1</td>\n",
       "      <td>0</td>\n",
       "      <td>2</td>\n",
       "      <td>2.50842</td>\n",
       "      <td>0.042199</td>\n",
       "      <td>0</td>\n",
       "      <td>2.50877</td>\n",
       "      <td>1</td>\n",
       "    </tr>\n",
       "    <tr>\n",
       "      <th>79</th>\n",
       "      <td>2</td>\n",
       "      <td>0</td>\n",
       "      <td>3</td>\n",
       "      <td>2.52435</td>\n",
       "      <td>0.045618</td>\n",
       "      <td>0</td>\n",
       "      <td>2.52476</td>\n",
       "      <td>2</td>\n",
       "    </tr>\n",
       "    <tr>\n",
       "      <th>127</th>\n",
       "      <td>3</td>\n",
       "      <td>0</td>\n",
       "      <td>4</td>\n",
       "      <td>2.53739</td>\n",
       "      <td>0.042093</td>\n",
       "      <td>0</td>\n",
       "      <td>2.53774</td>\n",
       "      <td>3</td>\n",
       "    </tr>\n",
       "    <tr>\n",
       "      <th>182</th>\n",
       "      <td>4</td>\n",
       "      <td>0</td>\n",
       "      <td>5</td>\n",
       "      <td>2.54770</td>\n",
       "      <td>0.047638</td>\n",
       "      <td>0</td>\n",
       "      <td>2.54815</td>\n",
       "      <td>4</td>\n",
       "    </tr>\n",
       "  </tbody>\n",
       "</table>\n",
       "</div>"
      ],
      "text/plain": [
       "              Point ID  class_dim  class_id  coordinates_0  coordinates_1  \\\n",
       "simNumbering                                                                \n",
       "12                   0          0         1        2.48436       0.043479   \n",
       "40                   1          0         2        2.50842       0.042199   \n",
       "79                   2          0         3        2.52435       0.045618   \n",
       "127                  3          0         4        2.53739       0.042093   \n",
       "182                  4          0         5        2.54770       0.047638   \n",
       "\n",
       "              coordinates_2  coordinates_Magnitude  local  \n",
       "simNumbering                                               \n",
       "12                        0                2.48474      0  \n",
       "40                        0                2.50877      1  \n",
       "79                        0                2.52476      2  \n",
       "127                       0                2.53774      3  \n",
       "182                       0                2.54815      4  "
      ]
     },
     "execution_count": 6,
     "metadata": {},
     "output_type": "execute_result"
    }
   ],
   "source": [
    "withbox.head()"
   ]
  },
  {
   "cell_type": "code",
   "execution_count": 7,
   "metadata": {},
   "outputs": [
    {
     "data": {
      "text/plain": [
       "(Point ID                 2.000000\n",
       " class_dim                0.000000\n",
       " class_id                 3.000000\n",
       " coordinates_0            2.524350\n",
       " coordinates_1            0.045618\n",
       " coordinates_2            0.000000\n",
       " coordinates_Magnitude    2.524760\n",
       " local                    2.000000\n",
       " Name: 79, dtype: float64,\n",
       " Point ID                 2.000000\n",
       " class_dim                0.000000\n",
       " class_id                 3.000000\n",
       " coordinates_0            2.524350\n",
       " coordinates_1            0.045618\n",
       " coordinates_2            0.000000\n",
       " coordinates_Magnitude    2.524760\n",
       " local                    2.000000\n",
       " Name: 79, dtype: float64)"
      ]
     },
     "execution_count": 7,
     "metadata": {},
     "output_type": "execute_result"
    }
   ],
   "source": [
    "# get the row with simNumbering 79\n",
    "withbox.loc[79], withoutbox.loc[79]"
   ]
  },
  {
   "cell_type": "code",
   "execution_count": 11,
   "metadata": {},
   "outputs": [],
   "source": [
    "def is_not_close(a,b, tol=1e-6):\n",
    "    return abs(a-b) > tol"
   ]
  },
  {
   "cell_type": "code",
   "execution_count": 14,
   "metadata": {},
   "outputs": [
    {
     "name": "stdout",
     "output_type": "stream",
     "text": [
      "Total number of not equal coordinates: 2518\n",
      "Total number of rows: 23740\n"
     ]
    }
   ],
   "source": [
    "# do a for loop and compare the coordinates_0 and coordinates_1 columns and break when they are not equal\n",
    "not_equal = 0\n",
    "for i in range(1, len(withoutbox)):\n",
    "    if is_not_close(withbox.loc[i].coordinates_0, withoutbox.loc[i].coordinates_0) or is_not_close(withbox.loc[i].coordinates_1, withoutbox.loc[i].coordinates_1):\n",
    "        #print(f'Coordinates are not equal at index {i}')\n",
    "        not_equal = not_equal + 1\n",
    "\n",
    "print(f'Total number of not equal coordinates: {not_equal}')\n",
    "print(f'Total number of rows: {len(withoutbox)}')"
   ]
  },
  {
   "cell_type": "code",
   "execution_count": 15,
   "metadata": {},
   "outputs": [
    {
     "name": "stdout",
     "output_type": "stream",
     "text": [
      "Coordinates are unequal at index 21032\n"
     ]
    }
   ],
   "source": [
    "for i in range(2, len(withoutbox)):\n",
    "    if is_not_close(withbox.loc[i].coordinates_0, withoutbox.loc[i].coordinates_0) or is_not_close(withbox.loc[i].coordinates_1, withoutbox.loc[i].coordinates_1):\n",
    "        print(f'Coordinates are unequal at index {i}')\n",
    "        break"
   ]
  },
  {
   "cell_type": "code",
   "execution_count": 16,
   "metadata": {},
   "outputs": [
    {
     "data": {
      "text/plain": [
       "190"
      ]
     },
     "execution_count": 16,
     "metadata": {},
     "output_type": "execute_result"
    }
   ],
   "source": [
    "# matching after the first mismatch\n",
    "23740-21032 - 2518"
   ]
  }
 ],
 "metadata": {
  "kernelspec": {
   "display_name": "main",
   "language": "python",
   "name": "python3"
  },
  "language_info": {
   "codemirror_mode": {
    "name": "ipython",
    "version": 3
   },
   "file_extension": ".py",
   "mimetype": "text/x-python",
   "name": "python",
   "nbconvert_exporter": "python",
   "pygments_lexer": "ipython3",
   "version": "3.12.3"
  }
 },
 "nbformat": 4,
 "nbformat_minor": 2
}
